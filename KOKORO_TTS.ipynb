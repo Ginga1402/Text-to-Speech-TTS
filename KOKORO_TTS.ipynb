{
 "cells": [
  {
   "cell_type": "code",
   "execution_count": null,
   "id": "b523b0ee",
   "metadata": {
    "vscode": {
     "languageId": "plaintext"
    }
   },
   "outputs": [],
   "source": [
    "!pip install -q kokoro>=0.9.2 soundfile\n",
    "!apt-get -qq -y install espeak-ng > /dev/null 2>&1"
   ]
  },
  {
   "cell_type": "code",
   "execution_count": null,
   "id": "1588341a",
   "metadata": {
    "vscode": {
     "languageId": "plaintext"
    }
   },
   "outputs": [],
   "source": [
    "text = \"\"\" This repository is designed to explore various methods for transcribing text to speech and converting speech to text.These techniques are crucial for the development of any generative AI application. Enhancing capabilities in both transcription and translation.\"\"\""
   ]
  },
  {
   "cell_type": "code",
   "execution_count": null,
   "id": "454828e0",
   "metadata": {
    "vscode": {
     "languageId": "plaintext"
    }
   },
   "outputs": [],
   "source": [
    "from kokoro import KPipeline\n",
    "from IPython.display import display, Audio\n",
    "import soundfile as sf\n",
    "import torch\n",
    "pipeline = KPipeline(lang_code='a')\n",
    "\n",
    "filename = \"test\"\n",
    "\n",
    "generator = pipeline(text, voice='af_heart')\n",
    "for i, (gs, ps, audio) in enumerate(generator):\n",
    "    print(i, gs, ps)\n",
    "    display(Audio(data=audio, rate=24000, autoplay=i==0))\n",
    "    sf.write(f'{filename}.wav', audio, 24000)"
   ]
  },
  {
   "cell_type": "code",
   "execution_count": null,
   "id": "b8c01af4",
   "metadata": {
    "vscode": {
     "languageId": "plaintext"
    }
   },
   "outputs": [],
   "source": []
  }
 ],
 "metadata": {
  "language_info": {
   "name": "python"
  }
 },
 "nbformat": 4,
 "nbformat_minor": 5
}
